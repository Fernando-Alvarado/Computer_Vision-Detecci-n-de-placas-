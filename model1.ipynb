{
 "cells": [
  {
   "cell_type": "markdown",
   "id": "56c6ac3a",
   "metadata": {},
   "source": [
    "# Computer vision, usando Yolo 11\n",
    "\n",
    "El enfoque de este notebook, es la deteccion de placas, haciendo ciertas modificaciones (preprocesadno) nuestras imagenes"
   ]
  },
  {
   "cell_type": "markdown",
   "id": "de605e2b",
   "metadata": {},
   "source": []
  }
 ],
 "metadata": {
  "language_info": {
   "name": "python"
  }
 },
 "nbformat": 4,
 "nbformat_minor": 5
}

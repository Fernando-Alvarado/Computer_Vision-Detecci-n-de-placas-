{
 "cells": [
  {
   "cell_type": "markdown",
   "id": "56c6ac3a",
   "metadata": {},
   "source": [
    "# Computer vision, usando Yolo 11\n",
    "\n",
    "El enfoque de este notebook, es la deteccion de placas, haciendo ciertas modificaciones (preprocesadno) nuestras imagenes"
   ]
  },
  {
   "cell_type": "code",
   "execution_count": null,
   "id": "649b97c2",
   "metadata": {},
   "outputs": [],
   "source": [
    "\n",
    "# El kernel que estoy usando el el base (luego actualizo que dependiendcias tiene)\n",
    "from ultralytics import YOLO"
   ]
  },
  {
   "cell_type": "code",
   "execution_count": 3,
   "id": "f7970398",
   "metadata": {},
   "outputs": [],
   "source": [
    "# Cargando los modelos y el Yalm\n",
    "model = YOLO(\"./Models/yolo11n.pt\") # Seleccionamos el modelo YOLOv11 Nano\n",
    "yaml_path = \"./Data/data.yaml\""
   ]
  },
  {
   "cell_type": "code",
   "execution_count": null,
   "id": "b5235abf",
   "metadata": {},
   "outputs": [],
   "source": [
    "# Corriendo un modelo por defecto\n",
    "# Poner la GPU\n",
    "\n",
    "model.train(\n",
    "    data=yaml_path,\n",
    "    epochs=15,\n",
    "    imgsz=640,\n",
    "    augment=True,\n",
    "    patience=5, # Paciencia para el early stopping\n",
    "    )"
   ]
  }
 ],
 "metadata": {
  "kernelspec": {
   "display_name": "yolov8_env",
   "language": "python",
   "name": "python3"
  },
  "language_info": {
   "codemirror_mode": {
    "name": "ipython",
    "version": 3
   },
   "file_extension": ".py",
   "mimetype": "text/x-python",
   "name": "python",
   "nbconvert_exporter": "python",
   "pygments_lexer": "ipython3",
   "version": "3.10.18"
  }
 },
 "nbformat": 4,
 "nbformat_minor": 5
}
